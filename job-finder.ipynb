{
 "cells": [
  {
   "cell_type": "code",
   "execution_count": 7,
   "id": "1500514d",
   "metadata": {},
   "outputs": [],
   "source": [
    "import json\n",
    "from selenium import webdriver\n",
    "from selenium.webdriver.common.by import By\n",
    "from selenium.webdriver.common.keys import Keys\n",
    "import time\n",
    "import pandas as pd\n",
    "\n",
    "driver = webdriver.Chrome()"
   ]
  },
  {
   "cell_type": "markdown",
   "id": "a9c90f8a",
   "metadata": {},
   "source": [
    "## Linkedin scraper\n",
    "\n",
    "### Signing in"
   ]
  },
  {
   "cell_type": "code",
   "execution_count": 9,
   "id": "e00492da",
   "metadata": {},
   "outputs": [],
   "source": [
    "driver.get('https://www.linkedin.com')\n",
    "\n",
    "# getting username and pwd fields\n",
    "username_field = driver.find_element(By.ID, \"session_key\")\n",
    "password_field = driver.find_element(By.ID, \"session_password\")\n",
    "# submit_button  = driver.find_element(by='css selector', value=\"input[type='submit']\")\n",
    "submit_button  = driver.find_element(By.CSS_SELECTOR, \"[type='submit']\")\n",
    "\n",
    "# importing username and pwd from credentials.json\n",
    "with open('./info.json', 'r') as f:\n",
    "    info = json.load(f)\n",
    "\n",
    "username_field.send_keys(info['username'])\n",
    "password_field.send_keys(info['password'])\n",
    "\n",
    "submit_button.click()"
   ]
  },
  {
   "cell_type": "markdown",
   "id": "3dfd7156",
   "metadata": {},
   "source": [
    "### Job page"
   ]
  },
  {
   "cell_type": "code",
   "execution_count": 30,
   "id": "cf45bf74",
   "metadata": {},
   "outputs": [
    {
     "name": "stdout",
     "output_type": "stream",
     "text": [
      "<selenium.webdriver.remote.webelement.WebElement (session=\"97665836d4f380cff48f79fa17a49649\", element=\"22B30BE935252EAF494533384577A90E_element_2996\")>\n",
      "<selenium.webdriver.remote.webelement.WebElement (session=\"97665836d4f380cff48f79fa17a49649\", element=\"22B30BE935252EAF494533384577A90E_element_2996\")>\n"
     ]
    }
   ],
   "source": [
    "driver.get('https://www.linkedin.com/jobs/?=')\n",
    "\n",
    "interested_roles = info['interested_roles']\n",
    "\n",
    "job_dict = {\n",
    "            \"Title\": [], \n",
    "            \"Company\": [],\n",
    "            \"Location\": [],\n",
    "            \"Description\": [], \n",
    "            \"URL\": []\n",
    "           }\n",
    "\n",
    "for i, interested_role in enumerate(interested_roles):\n",
    "    search_field = driver.find_element(By.CSS_SELECTOR, \"[id^='jobs-search-box-keyword-id'\")\n",
    "    search_field.clear()\n",
    "    search_field.send_keys(interested_role, Keys.ENTER)\n",
    "    \n",
    "    time.sleep(5)\n",
    "    \n",
    "    # Filter by \"experience level\"\n",
    "    # have to do this only once\n",
    "    if i == 0:\n",
    "        job_filter = driver.find_element(By.CLASS_NAME, \"search-reusables__filter-list\")\n",
    "        exp_filter = job_filter.find_elements(By.CLASS_NAME, \"search-reusables__primary-filter\")[2]\n",
    "        exp_filter.click()\n",
    "\n",
    "        entry_lvl_filter = driver.find_element(By.ID, \"experience-2\")\n",
    "        driver.execute_script(\"arguments[0].click();\", entry_lvl_filter)\n",
    "        driver.find_elements(By.CLASS_NAME, \"artdeco-button--primary\")[1].click()\n",
    "\n",
    "        time.sleep(2)\n",
    "    \n",
    "    job_list = driver.find_element(By.CLASS_NAME, \"scaffold-layout__list-container\")\n",
    "    print(job_list)\n",
    "    \n",
    "    job_links = job_list.find_elements(By.CLASS_NAME, \"jobs-search-results__list-item\")\n",
    "    \n",
    "    for job_link in job_links[:3]:\n",
    "        job_link.click()\n",
    "        \n",
    "        job_details = driver.find_element(By.ID, \"job-details\")\n",
    "        job_title   = driver.find_element(By.CLASS_NAME, \"jobs-unified-top-card__job-title\")\n",
    "        job_comp_loc= driver.find_element(By.CLASS_NAME, \"jobs-unified-top-card__primary-description\")\n",
    "\n",
    "        job_dict[\"Title\"].append(job_title.text)\n",
    "        job_dict[\"Company\"].append(job_comp_loc.text.split(' · ')[0])\n",
    "        job_dict[\"Location\"].append(job_comp_loc.text.split(' · ')[1])\n",
    "        job_dict[\"Description\"].append(job_details.text)\n",
    "        job_dict[\"URL\"].append(driver.current_url)\n",
    "        \n",
    "        time.sleep(2)\n",
    "    \n",
    "#     job_details = driver.find_element(By.ID, \"job-details\")\n",
    "#     print(job_details.text())\n",
    "    \n"
   ]
  },
  {
   "cell_type": "code",
   "execution_count": 33,
   "id": "4b9f947a",
   "metadata": {},
   "outputs": [
    {
     "data": {
      "text/html": [
       "<div>\n",
       "<style scoped>\n",
       "    .dataframe tbody tr th:only-of-type {\n",
       "        vertical-align: middle;\n",
       "    }\n",
       "\n",
       "    .dataframe tbody tr th {\n",
       "        vertical-align: top;\n",
       "    }\n",
       "\n",
       "    .dataframe thead th {\n",
       "        text-align: right;\n",
       "    }\n",
       "</style>\n",
       "<table border=\"1\" class=\"dataframe\">\n",
       "  <thead>\n",
       "    <tr style=\"text-align: right;\">\n",
       "      <th></th>\n",
       "      <th>Title</th>\n",
       "      <th>Company</th>\n",
       "      <th>Location</th>\n",
       "      <th>Description</th>\n",
       "      <th>URL</th>\n",
       "    </tr>\n",
       "  </thead>\n",
       "  <tbody>\n",
       "    <tr>\n",
       "      <th>0</th>\n",
       "      <td>Staff Data Scientist</td>\n",
       "      <td>Peerlogic</td>\n",
       "      <td>Scottsdale, AZ (On-site)  5 days ago</td>\n",
       "      <td>About the job\\nLocation: Scottsdale, Arizona, ...</td>\n",
       "      <td>https://www.linkedin.com/jobs/search/?currentJ...</td>\n",
       "    </tr>\n",
       "    <tr>\n",
       "      <th>1</th>\n",
       "      <td>Data Engineer</td>\n",
       "      <td>Jobot</td>\n",
       "      <td>Philadelphia, PA (On-site)  18 minutes ago</td>\n",
       "      <td>About the job\\nWant to learn more about this r...</td>\n",
       "      <td>https://www.linkedin.com/jobs/search/?currentJ...</td>\n",
       "    </tr>\n",
       "    <tr>\n",
       "      <th>2</th>\n",
       "      <td>Data Scientist</td>\n",
       "      <td>Strategic Staffing Solutions</td>\n",
       "      <td>Charlotte, NC (On-site)  3 weeks ago</td>\n",
       "      <td>About the job\\nStrategic Staffing Solutions is...</td>\n",
       "      <td>https://www.linkedin.com/jobs/search/?currentJ...</td>\n",
       "    </tr>\n",
       "    <tr>\n",
       "      <th>3</th>\n",
       "      <td>Data Analyst</td>\n",
       "      <td>DigiFlight, Inc.</td>\n",
       "      <td>Columbia, MD (On-site) Reposted  2 weeks ago</td>\n",
       "      <td>About the job\\nWork with Senior Data Analysts ...</td>\n",
       "      <td>https://www.linkedin.com/jobs/search/?currentJ...</td>\n",
       "    </tr>\n",
       "    <tr>\n",
       "      <th>4</th>\n",
       "      <td>Data Analyst</td>\n",
       "      <td>Keller Postman LLC</td>\n",
       "      <td>Orlando, FL (On-site)  5 days ago</td>\n",
       "      <td>About the job\\nFirm Summary: Keller Postman is...</td>\n",
       "      <td>https://www.linkedin.com/jobs/search/?currentJ...</td>\n",
       "    </tr>\n",
       "    <tr>\n",
       "      <th>5</th>\n",
       "      <td>Data Analyst</td>\n",
       "      <td>Staffing Resource Group, Inc</td>\n",
       "      <td>Arlington, VA (On-site)  2 weeks ago</td>\n",
       "      <td>About the job\\nJob Description\\n\\nData Analyst...</td>\n",
       "      <td>https://www.linkedin.com/jobs/search/?currentJ...</td>\n",
       "    </tr>\n",
       "  </tbody>\n",
       "</table>\n",
       "</div>"
      ],
      "text/plain": [
       "                  Title                       Company  \\\n",
       "0  Staff Data Scientist                     Peerlogic   \n",
       "1         Data Engineer                         Jobot   \n",
       "2        Data Scientist  Strategic Staffing Solutions   \n",
       "3          Data Analyst              DigiFlight, Inc.   \n",
       "4          Data Analyst            Keller Postman LLC   \n",
       "5          Data Analyst  Staffing Resource Group, Inc   \n",
       "\n",
       "                                        Location  \\\n",
       "0          Scottsdale, AZ (On-site)  5 days ago    \n",
       "1    Philadelphia, PA (On-site)  18 minutes ago    \n",
       "2          Charlotte, NC (On-site)  3 weeks ago    \n",
       "3  Columbia, MD (On-site) Reposted  2 weeks ago    \n",
       "4             Orlando, FL (On-site)  5 days ago    \n",
       "5          Arlington, VA (On-site)  2 weeks ago    \n",
       "\n",
       "                                         Description  \\\n",
       "0  About the job\\nLocation: Scottsdale, Arizona, ...   \n",
       "1  About the job\\nWant to learn more about this r...   \n",
       "2  About the job\\nStrategic Staffing Solutions is...   \n",
       "3  About the job\\nWork with Senior Data Analysts ...   \n",
       "4  About the job\\nFirm Summary: Keller Postman is...   \n",
       "5  About the job\\nJob Description\\n\\nData Analyst...   \n",
       "\n",
       "                                                 URL  \n",
       "0  https://www.linkedin.com/jobs/search/?currentJ...  \n",
       "1  https://www.linkedin.com/jobs/search/?currentJ...  \n",
       "2  https://www.linkedin.com/jobs/search/?currentJ...  \n",
       "3  https://www.linkedin.com/jobs/search/?currentJ...  \n",
       "4  https://www.linkedin.com/jobs/search/?currentJ...  \n",
       "5  https://www.linkedin.com/jobs/search/?currentJ...  "
      ]
     },
     "metadata": {},
     "output_type": "display_data"
    }
   ],
   "source": [
    "job_df = pd.DataFrame.from_dict(job_dict)\n",
    "display(job_df)\n",
    "\n",
    "job_df.to_excel(\"jobs_found.xlsx\", index=False)"
   ]
  },
  {
   "cell_type": "code",
   "execution_count": 28,
   "id": "386d0f2a",
   "metadata": {},
   "outputs": [
    {
     "data": {
      "text/plain": [
       "['Staffing Resource Group, Inc',\n",
       " 'Arlington, VA (On-site)  2 weeks ago ',\n",
       " '96 applicants']"
      ]
     },
     "execution_count": 28,
     "metadata": {},
     "output_type": "execute_result"
    }
   ],
   "source": [
    "job_title   = driver.find_element(By.CLASS_NAME, \"jobs-unified-top-card__primary-description\")\n",
    "job_title.text.split(' · ')"
   ]
  },
  {
   "cell_type": "code",
   "execution_count": 59,
   "id": "a0f0d732",
   "metadata": {},
   "outputs": [],
   "source": [
    "driver.close()"
   ]
  },
  {
   "cell_type": "markdown",
   "id": "4f796c42",
   "metadata": {},
   "source": [
    "## Extracting key words from resume"
   ]
  },
  {
   "cell_type": "code",
   "execution_count": null,
   "id": "4b4cf839",
   "metadata": {},
   "outputs": [],
   "source": []
  }
 ],
 "metadata": {
  "kernelspec": {
   "display_name": "Python 3 (ipykernel)",
   "language": "python",
   "name": "python3"
  },
  "language_info": {
   "codemirror_mode": {
    "name": "ipython",
    "version": 3
   },
   "file_extension": ".py",
   "mimetype": "text/x-python",
   "name": "python",
   "nbconvert_exporter": "python",
   "pygments_lexer": "ipython3",
   "version": "3.9.16"
  }
 },
 "nbformat": 4,
 "nbformat_minor": 5
}
